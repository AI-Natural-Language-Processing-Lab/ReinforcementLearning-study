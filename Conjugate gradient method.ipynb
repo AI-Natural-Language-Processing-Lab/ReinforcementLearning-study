{
 "cells": [
  {
   "cell_type": "markdown",
   "metadata": {},
   "source": [
    "# Conjugate gradient method"
   ]
  },
  {
   "cell_type": "markdown",
   "metadata": {},
   "source": [
    "- gradient descent와 비슷하지만(값이 작아지는 방향으로 찾아간다.) 방향과 크기를 찾는데 있어서 앞선 gradient descent보다 정확하게 찾는다.\n",
    "- 하지만, objective function이 2차 미분값을 계산할 수 있어야 한다."
   ]
  },
  {
   "cell_type": "markdown",
   "metadata": {},
   "source": [
    "- 기본적으로 newton method는 multivariate function의 테일러 급수를 기초로 한다."
   ]
  },
  {
   "cell_type": "markdown",
   "metadata": {},
   "source": [
    "- \\\\(f(x + p)\\\\)를 테일러 급수 취하면 아래와 같은 식이 도출된다.\n",
    "  - \\\\(f(x_k + p_k) \\approx f(x_k) + {p_k}^T \\triangledown f(x_k) + \\frac{1}{2} {p_k}^T H(x_k) p_k \\\\)"
   ]
  },
  {
   "cell_type": "markdown",
   "metadata": {},
   "source": [
    "- 위 함수 \\\\(f(x + p)\\\\)를 최소화하기 위해서, \\\\(f(x)\\\\)의 오른쪽에 있는 값을 작게 만들면 된다.\n",
    "- 따라서, \\\\(p_k\\\\)의 2차식이기 때문에 최소값을 구하기 위해서 \\\\(p_k\\\\)로 미분한 값이 0이 될때 최소값이다.(여기서 Hessian H는 positive definite이기 때문에 항상 최소값이다.)\n",
    "- 미분해서 정리하면,\n",
    "- \\\\(H(x_k)p_k = -\\triangledown f(x_k) \\qquad \\therefore p_k= -{H(x_k)}^{-1} \\triangledown f(x_k) \\\\)"
   ]
  },
  {
   "cell_type": "markdown",
   "metadata": {},
   "source": [
    "## 결론적으로"
   ]
  },
  {
   "cell_type": "markdown",
   "metadata": {},
   "source": [
    "- newton's method식은 아래와 같다.\n",
    "  - \\\\(x_{k+1} = x_k -{H(x_k)}^{-1} \\triangledown f(x_k)\\\\)"
   ]
  },
  {
   "cell_type": "markdown",
   "metadata": {},
   "source": [
    "## 아래 블로그 참조해서 작성하였습니다."
   ]
  },
  {
   "cell_type": "markdown",
   "metadata": {},
   "source": [
    "[참조 블로그](https://miniopt.wordpress.com/tag/%EC%B5%9C%EC%A0%81%ED%99%94/)"
   ]
  },
  {
   "cell_type": "code",
   "execution_count": null,
   "metadata": {},
   "outputs": [],
   "source": []
  }
 ],
 "metadata": {
  "kernelspec": {
   "display_name": "Python 3",
   "language": "python",
   "name": "python3"
  },
  "language_info": {
   "codemirror_mode": {
    "name": "ipython",
    "version": 3
   },
   "file_extension": ".py",
   "mimetype": "text/x-python",
   "name": "python",
   "nbconvert_exporter": "python",
   "pygments_lexer": "ipython3",
   "version": "3.5.5"
  }
 },
 "nbformat": 4,
 "nbformat_minor": 2
}
