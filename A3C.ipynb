{
 "cells": [
  {
   "cell_type": "markdown",
   "metadata": {},
   "source": [
    "# A3C"
   ]
  },
  {
   "cell_type": "markdown",
   "metadata": {},
   "source": [
    "## 최근 A3C 알고리즘이 baseline 알고리즘이 되고 있다."
   ]
  },
  {
   "cell_type": "markdown",
   "metadata": {},
   "source": [
    "## New baseline A3C"
   ]
  },
  {
   "cell_type": "markdown",
   "metadata": {},
   "source": [
    "* 강화학습\n",
    "  - value based 강화학습\n",
    "  - policy based 강화학습"
   ]
  },
  {
   "cell_type": "markdown",
   "metadata": {},
   "source": [
    "* DQN\n",
    "  - 장점\n",
    "    - 게임 화면을 상태 입력으로 받아서 학습한다.(CNN)\n",
    "    - 사람 보다 게임 플레이를 더 잘하는 agent\n",
    "    - sample간 상관관계가 커서 학습이 안되는 문제를 -> replay memory로 해결\n",
    "  - 단점\n",
    "    - 많은 메모리를 사용한다.\n",
    "    - 느린 학습 속도\n",
    "    - 불안정한 학습 과정(value function에 대한 greedy policy 이므로 눈앞에 가장 좋은것만 쫒아간다.)"
   ]
  },
  {
   "cell_type": "markdown",
   "metadata": {},
   "source": [
    "## A3C = Asynchronous Advantage Actor-Critic"
   ]
  },
  {
   "cell_type": "markdown",
   "metadata": {},
   "source": [
    "- sample간 상관관계를 비동기 update로 해결\n",
    "- replay memory 사용 안함.\n",
    "- policy gradient 알고리즘 사용가능\n",
    "- 상대적으로 빠른 학습 속도(여러 agent가 비동기적으로 환경과 상호작용 하기 때문)"
   ]
  },
  {
   "cell_type": "markdown",
   "metadata": {},
   "source": [
    "## Actor-Critic = REINFORCE + 실시간 학습"
   ]
  },
  {
   "cell_type": "markdown",
   "metadata": {},
   "source": [
    "- REINFORCE, Monte Carlo policy gradient\n",
    "- 강화학습에 cross entropy를 적용하여, 업데이트의 방향성을 찾는다. 실제로 어떤 행동을 하는가는 중요하지 않고, Q function 자체가 현재 상태 이후에 받을 reward를 최대로 하는 것이기 때문에 그 방향성을 주는 것이다."
   ]
  },
  {
   "cell_type": "markdown",
   "metadata": {},
   "source": [
    "- 이것을 여러개 만들어서 하나의 global weights를 update하고 나머지는 환경과 상호작용하며 돌아가면서 global weights를 update한다."
   ]
  },
  {
   "cell_type": "code",
   "execution_count": null,
   "metadata": {},
   "outputs": [],
   "source": []
  }
 ],
 "metadata": {
  "kernelspec": {
   "display_name": "Python 3",
   "language": "python",
   "name": "python3"
  },
  "language_info": {
   "codemirror_mode": {
    "name": "ipython",
    "version": 3
   },
   "file_extension": ".py",
   "mimetype": "text/x-python",
   "name": "python",
   "nbconvert_exporter": "python",
   "pygments_lexer": "ipython3",
   "version": "3.5.5"
  }
 },
 "nbformat": 4,
 "nbformat_minor": 2
}
