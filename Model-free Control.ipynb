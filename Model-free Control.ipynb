{
 "cells": [
  {
   "cell_type": "markdown",
   "metadata": {},
   "source": [
    "# Model-free Control"
   ]
  },
  {
   "cell_type": "markdown",
   "metadata": {},
   "source": [
    "* For most of these problems\n",
    "  - MDP 모델을 모르거나 MDP 모델을 알더라도 sampling 방법 이외에 사용할 것이 없을 때\n",
    "  - 결국 sampling으로 문제를 풀때 Model-free Control을 사용한다."
   ]
  },
  {
   "cell_type": "markdown",
   "metadata": {},
   "source": [
    "## On-policy / Off-policy"
   ]
  },
  {
   "cell_type": "markdown",
   "metadata": {},
   "source": [
    "- on-policy, 스스로 행동하고 배우는 것\n",
    "- off-policy, 다른 agent가 행동한 policy로  행동해서 경험이 나왔을 때 그 경험으로 배우는 것, 전혀 다른 policy를 사용하는 것"
   ]
  },
  {
   "cell_type": "markdown",
   "metadata": {},
   "source": [
    "## On-policy Monte-Carlo Control"
   ]
  },
  {
   "cell_type": "markdown",
   "metadata": {},
   "source": [
    "#### policy iteration using action-value function"
   ]
  },
  {
   "cell_type": "markdown",
   "metadata": {},
   "source": [
    "- policy iteration을 보면 policy evaluation으로 state-value function을 구하고 greedy하게 policy improvement하는 과정으로 진행되었다. 근데 state-value를 구한 뒤에 policy로 update하기 위해서는 모든 action을 알아야한다. 이것은 MDP를 안다는 뜻이고 model-free는 아니다. 따라서 state-value 대신 action-value function을 사용해서 policy improvement를 해서 문제를 해결한다."
   ]
  },
  {
   "cell_type": "markdown",
   "metadata": {},
   "source": [
    "## e-greedy exploration"
   ]
  },
  {
   "cell_type": "markdown",
   "metadata": {},
   "source": [
    "- 복잡한 상황에서 연속적으로 어떤 결정을 내린다 했을 때 현재 상태에서만 고려해서 greedy하게 선택을 한다면 너무 단순한 모델이 되어버린다. 따라서 작은 확률로 greedy하지 않은 action을 취하게 하는 것이다."
   ]
  },
  {
   "cell_type": "markdown",
   "metadata": {},
   "source": [
    "- 모든 action explore 가능\n",
    "- policy가 계속 발전하는 것을 보장가능하다."
   ]
  },
  {
   "cell_type": "markdown",
   "metadata": {},
   "source": []
  }
 ],
 "metadata": {
  "kernelspec": {
   "display_name": "Python 3",
   "language": "python",
   "name": "python3"
  },
  "language_info": {
   "codemirror_mode": {
    "name": "ipython",
    "version": 3
   },
   "file_extension": ".py",
   "mimetype": "text/x-python",
   "name": "python",
   "nbconvert_exporter": "python",
   "pygments_lexer": "ipython3",
   "version": "3.5.5"
  }
 },
 "nbformat": 4,
 "nbformat_minor": 2
}
